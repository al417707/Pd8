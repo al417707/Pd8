{
 "cells": [
  {
   "cell_type": "code",
   "execution_count": 2,
   "id": "b9471e30",
   "metadata": {},
   "outputs": [],
   "source": [
    "import numpy as np\n",
    "dane = np.load('ex3_data.npy')"
   ]
  },
  {
   "cell_type": "code",
   "execution_count": 3,
   "id": "1ed2e550",
   "metadata": {},
   "outputs": [
    {
     "data": {
      "text/plain": [
       "200"
      ]
     },
     "execution_count": 3,
     "metadata": {},
     "output_type": "execute_result"
    }
   ],
   "source": [
    "#W danych mamy tyle wierszy:\n",
    "dane.shape[0]"
   ]
  },
  {
   "cell_type": "code",
   "execution_count": 4,
   "id": "e5a71ef2",
   "metadata": {},
   "outputs": [],
   "source": [
    "braki = np.isnan(dane)\n",
    "wiersze_braki = np.sum(braki, axis = 1)\n",
    "indeksy = np.where(wiersze_braki)\n",
    "indeksy = indeksy[0]"
   ]
  },
  {
   "cell_type": "code",
   "execution_count": 5,
   "id": "03f5a50d",
   "metadata": {},
   "outputs": [
    {
     "name": "stdout",
     "output_type": "stream",
     "text": [
      "[  1   3   5  13  15  43  50  73  89 123]\n"
     ]
    }
   ],
   "source": [
    "#Wiersze w których mamy brakujące wartości to: \n",
    "print(indeksy)"
   ]
  },
  {
   "cell_type": "code",
   "execution_count": 6,
   "id": "107a431a",
   "metadata": {},
   "outputs": [
    {
     "data": {
      "text/plain": [
       "10"
      ]
     },
     "execution_count": 6,
     "metadata": {},
     "output_type": "execute_result"
    }
   ],
   "source": [
    "#Po odfiltrowaniu odrzucimy zatem tyle wierszy:\n",
    "len(indeksy)"
   ]
  },
  {
   "cell_type": "code",
   "execution_count": 7,
   "id": "64413b4b",
   "metadata": {},
   "outputs": [
    {
     "data": {
      "text/plain": [
       "190"
      ]
     },
     "execution_count": 7,
     "metadata": {},
     "output_type": "execute_result"
    }
   ],
   "source": [
    "#dane_filtr - dane po odfiltrowaniu kolumn z brakami. Rzeczywiście zostaje 190 wierszy \n",
    "indeksy_dobre = np.where(wiersze_braki == 0)\n",
    "dane_filtr = dane[indeksy_dobre,:][0]\n",
    "dane_filtr.shape[0]"
   ]
  },
  {
   "cell_type": "code",
   "execution_count": 8,
   "id": "4e987265",
   "metadata": {},
   "outputs": [
    {
     "name": "stdout",
     "output_type": "stream",
     "text": [
      "[[  1   1]\n",
      " [  3   1]\n",
      " [  5   1]\n",
      " [ 13   1]\n",
      " [ 15   1]\n",
      " [ 43   1]\n",
      " [ 50   1]\n",
      " [ 73   2]\n",
      " [ 89   1]\n",
      " [123   1]]\n"
     ]
    }
   ],
   "source": [
    "#ile nanów było w każdym wierszu? Pierwsza kolumna - numer wiersza, druga - liczba nanów\n",
    "na_count = np.vstack((indeksy, wiersze_braki[indeksy]))\n",
    "print(na_count.transpose())"
   ]
  },
  {
   "cell_type": "code",
   "execution_count": 9,
   "id": "7ea56338",
   "metadata": {},
   "outputs": [
    {
     "name": "stdout",
     "output_type": "stream",
     "text": [
      "[3 3 4 1]\n"
     ]
    }
   ],
   "source": [
    "#Ile nanów w każdej kolumnie?\n",
    "\n",
    "kol_braki = np.sum(braki, axis = 0)\n",
    "print(kol_braki)"
   ]
  }
 ],
 "metadata": {
  "kernelspec": {
   "display_name": "Python 3 (ipykernel)",
   "language": "python",
   "name": "python3"
  },
  "language_info": {
   "codemirror_mode": {
    "name": "ipython",
    "version": 3
   },
   "file_extension": ".py",
   "mimetype": "text/x-python",
   "name": "python",
   "nbconvert_exporter": "python",
   "pygments_lexer": "ipython3",
   "version": "3.9.7"
  }
 },
 "nbformat": 4,
 "nbformat_minor": 5
}
